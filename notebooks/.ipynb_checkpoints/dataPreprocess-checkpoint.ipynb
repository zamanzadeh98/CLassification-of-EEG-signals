{
 "cells": [
  {
   "cell_type": "markdown",
   "metadata": {},
   "source": [
    "# Aim:\n",
    "\n",
    "In the current notebook I will try carry out the following tasks:\n",
    "* Reading the data\n",
    "* Applying a band pass filter\n",
    "* Train test split (based on subjects)\n",
    "* Segmenting the signal\n",
    "* Saving them for future usage\n"
   ]
  },
  {
   "cell_type": "code",
   "execution_count": 1,
   "metadata": {},
   "outputs": [],
   "source": [
    "# one step back\n",
    "os.chdir(\"../\")"
   ]
  },
  {
   "cell_type": "markdown",
   "metadata": {},
   "source": [
    "#### Packages"
   ]
  },
  {
   "cell_type": "code",
   "execution_count": 41,
   "metadata": {},
   "outputs": [],
   "source": [
    "\n",
    "\n",
    "# Custom functions\n",
    "from src.dataUtils import readData\n",
    "\n",
    "# Official packages\n",
    "import mne\n",
    "import numpy as np\n",
    "import matplotlib.pyplot as plt\n",
    "import glob\n",
    "import pandas as pd\n",
    "from sklearn.model_selection import train_test_split\n",
    "import seaborn as sns\n",
    "import csv"
   ]
  },
  {
   "cell_type": "markdown",
   "metadata": {},
   "source": [
    "#### Reading the data"
   ]
  },
  {
   "cell_type": "code",
   "execution_count": 3,
   "metadata": {},
   "outputs": [
    {
     "name": "stdout",
     "output_type": "stream",
     "text": [
      "Number of subjects:  88\n"
     ]
    },
    {
     "data": {
      "text/html": [
       "<div>\n",
       "<style scoped>\n",
       "    .dataframe tbody tr th:only-of-type {\n",
       "        vertical-align: middle;\n",
       "    }\n",
       "\n",
       "    .dataframe tbody tr th {\n",
       "        vertical-align: top;\n",
       "    }\n",
       "\n",
       "    .dataframe thead th {\n",
       "        text-align: right;\n",
       "    }\n",
       "</style>\n",
       "<table border=\"1\" class=\"dataframe\">\n",
       "  <thead>\n",
       "    <tr style=\"text-align: right;\">\n",
       "      <th></th>\n",
       "      <th>participant_id</th>\n",
       "      <th>Gender</th>\n",
       "      <th>Age</th>\n",
       "      <th>Group</th>\n",
       "      <th>MMSE</th>\n",
       "    </tr>\n",
       "  </thead>\n",
       "  <tbody>\n",
       "    <tr>\n",
       "      <th>0</th>\n",
       "      <td>sub-001</td>\n",
       "      <td>F</td>\n",
       "      <td>57</td>\n",
       "      <td>A</td>\n",
       "      <td>16</td>\n",
       "    </tr>\n",
       "    <tr>\n",
       "      <th>1</th>\n",
       "      <td>sub-002</td>\n",
       "      <td>F</td>\n",
       "      <td>78</td>\n",
       "      <td>A</td>\n",
       "      <td>22</td>\n",
       "    </tr>\n",
       "  </tbody>\n",
       "</table>\n",
       "</div>"
      ],
      "text/plain": [
       "  participant_id Gender  Age Group  MMSE\n",
       "0        sub-001      F   57     A    16\n",
       "1        sub-002      F   78     A    22"
      ]
     },
     "execution_count": 3,
     "metadata": {},
     "output_type": "execute_result"
    }
   ],
   "source": [
    "# File subjects\n",
    "paths = glob.glob(\"data/derivatives/*/eeg/*.set\")\n",
    "print(\"Number of subjects: \", len(paths))\n",
    "\n",
    "\n",
    "# Metadaya\n",
    "metaData = pd.read_csv(\"data/participants.tsv\",\n",
    "                        sep=\"\\t\")\n",
    "metaData.head(2)"
   ]
  },
  {
   "cell_type": "markdown",
   "metadata": {},
   "source": [
    "#### Grouping the data (for future train test split)"
   ]
  },
  {
   "cell_type": "code",
   "execution_count": 4,
   "metadata": {},
   "outputs": [],
   "source": [
    "def grouping(metaData, path, group):\n",
    "    df = metaData[metaData[\"Group\"]==group]\n",
    "    if path.split(\"/\")[-3] in df[\"participant_id\"].to_list():\n",
    "        return True\n",
    "    else: return False\n",
    "\n",
    "\n",
    "Alzheimer_path = [path for path in paths  if grouping(metaData, path, \"A\")]\n",
    "# Frontotemporal Dementia\n",
    "FD_path = [path for path in paths  if grouping(metaData, path, \"F\")]\n",
    "control_path = [path for path in paths  if grouping(metaData, path, \"C\")]"
   ]
  },
  {
   "cell_type": "markdown",
   "metadata": {},
   "source": [
    "#### Distribution of different classes"
   ]
  },
  {
   "cell_type": "code",
   "execution_count": 5,
   "metadata": {},
   "outputs": [
    {
     "data": {
      "image/png": "[encoded data removed]",
      "text/plain": [
       "<Figure size 700x600 with 1 Axes>"
      ]
     },
     "metadata": {
      "needs_background": "light"
     },
     "output_type": "display_data"
    }
   ],
   "source": [
    "\n",
    "gName = [\"Alzheimer disease\", \"Frontotemporal Dementia\", \"control group\"]\n",
    "gValue = [len(Alzheimer_path), len(FD_path), len(control_path)]\n",
    "\n",
    "# Set the background of the plot to be transparent\n",
    "plt.figure(figsize=(7, 6))\n",
    "plt.bar(gName, gValue, color=['tab:green', 'tab:red', 'tab:orange'])\n",
    "plt.xlabel(\"label\")\n",
    "plt.ylabel(\"Frequency\")\n",
    "plt.title(\"Frequency of each group\")\n",
    "\n",
    "# Adjust the figure's facecolor to make it transparent\n",
    "fig = plt.gcf()\n",
    "fig.patch.set_facecolor('none')\n",
    "\n",
    "plt.savefig(\"pictures/GroupFrequency.png\")\n",
    "# Display the plot\n",
    "plt.show()\n"
   ]
  },
  {
   "cell_type": "markdown",
   "metadata": {},
   "source": [
    "#### Train Test split\n",
    "\n",
    "We are going to save the IDs in case we want to use cross validation fot the training set (or even one subject leave ot)\n",
    "\n",
    "**Stratified sampling**\n",
    "\n",
    "Stratified sampling is a sampling technique used in machine learning and statistics to ensure that the data used for training and testing models is representative of the underlying population. It is especially useful when dealing with imbalanced datasets, where one class or category of data significantly outnumbers the others. The goal of stratified sampling is to maintain the same class distribution in both the training and testing datasets as in the original dataset.\n"
   ]
  },
  {
   "cell_type": "code",
   "execution_count": 45,
   "metadata": {},
   "outputs": [],
   "source": [
    "X = metaData.drop(columns=[\"Group\"])\n",
    "y = metaData[\"Group\"]\n",
    "x_train, x_test, y_train, y_test = train_test_split(X, y,\n",
    "                                                    stratify=y, \n",
    "                                                    random_state=0)\n",
    "train = pd.concat([x_train, y_train], axis=1)\n",
    "test = pd.concat([x_test, y_test], axis=1)\n",
    "\n",
    "train.to_csv(\"data/trainIDs.csv\")\n",
    "test.to_csv(\"data/testIDs.csv\")"
   ]
  },
  {
   "cell_type": "code",
   "execution_count": 7,
   "metadata": {},
   "outputs": [
    {
     "ename": "NameError",
     "evalue": "name 'dfShow' is not defined",
     "output_type": "error",
     "traceback": [
      "\u001b[0;31m---------------------------------------------------------------------------\u001b[0m",
      "\u001b[0;31mNameError\u001b[0m                                 Traceback (most recent call last)",
      "Cell \u001b[0;32mIn[7], line 5\u001b[0m\n\u001b[1;32m      2\u001b[0m plt\u001b[38;5;241m.\u001b[39mfigure(figsize\u001b[38;5;241m=\u001b[39m(\u001b[38;5;241m10\u001b[39m, \u001b[38;5;241m10\u001b[39m)) \n\u001b[1;32m      4\u001b[0m \u001b[38;5;66;03m# plt.subplot(1, 1, 1)\u001b[39;00m\n\u001b[0;32m----> 5\u001b[0m g \u001b[38;5;241m=\u001b[39m sns\u001b[38;5;241m.\u001b[39mFacetGrid(\u001b[43mdfShow\u001b[49m, y\u001b[38;5;241m=\u001b[39m\u001b[38;5;124m\"\u001b[39m\u001b[38;5;124mAge\u001b[39m\u001b[38;5;124m\"\u001b[39m, hue\u001b[38;5;241m=\u001b[39m\u001b[38;5;124m'\u001b[39m\u001b[38;5;124mGender\u001b[39m\u001b[38;5;124m'\u001b[39m)\n\u001b[1;32m      7\u001b[0m \u001b[38;5;66;03m# g = g.map(sns.kdeplot,'Age', fill=True,alpha=0.4)    \u001b[39;00m\n\u001b[1;32m      9\u001b[0m g\u001b[38;5;241m.\u001b[39madd_legend()\n",
      "\u001b[0;31mNameError\u001b[0m: name 'dfShow' is not defined"
     ]
    },
    {
     "data": {
      "text/plain": [
       "<Figure size 1000x1000 with 0 Axes>"
      ]
     },
     "metadata": {},
     "output_type": "display_data"
    }
   ],
   "source": [
    "\n",
    "# plt.figure(figsize=(12, 6))\n",
    "plt.figure(figsize=(10, 10)) \n",
    "\n",
    "# plt.subplot(1, 1, 1)\n",
    "g = sns.FacetGrid(dfShow, y=\"Age\", hue='Gender')\n",
    "\n",
    "# g = g.map(sns.kdeplot,'Age', fill=True,alpha=0.4)    \n",
    "                  \n",
    "g.add_legend()\n",
    "\n",
    "\n",
    "plt.show()"
   ]
  },
  {
   "cell_type": "markdown",
   "metadata": {},
   "source": [
    "### Reading the data"
   ]
  },
  {
   "cell_type": "code",
   "execution_count": 59,
   "metadata": {},
   "outputs": [],
   "source": [
    "# Set the logging level to ERROR (or CRITICAL)\n",
    "mne.set_log_level(\"ERROR\")\n",
    "\n",
    "\n",
    "def preprocess(path, l_freq=0.5, h_freq=45, durartion=5, overlap=0):\n",
    "    \"\"\"1. This function reads the data\n",
    "    \"\"\"\n",
    "\n",
    "    data = mne.io.read_raw_eeglab(path)\n",
    "\n",
    "    # By default the reference is the average of\n",
    "    # all channels\n",
    "    data.set_eeg_reference()\n",
    "\n",
    "    # Filtering the data\n",
    "    data.filter(l_freq=l_freq, h_freq=h_freq)\n",
    "\n",
    "    # Segmenting the data into equal segments\n",
    "    epochs = mne.make_fixed_length_epochs(data, \n",
    "                                    duration=durartion,\n",
    "                                    overlap=overlap,\n",
    "                                    verbose=False)\n",
    "\n",
    "    # Till here, all the data are as mne objects\n",
    "    # but using the bellow code, we convert the data\n",
    "    # into numpy array\n",
    "    numpyArray = epochs.get_data()\n",
    "\n",
    "    return numpyArray\n",
    "\n",
    "\n",
    "def storeSegments(dataPaths, trainIDs):\n",
    "    \"\"\"\"\"\"\n",
    "\n",
    "    for i in dataPaths:\n",
    "\n",
    "        subjectID = os.path.basename(i).split(\"_\")[0]\n",
    "\n",
    "        # seperating train and test data\n",
    "        if subjectID in list(trainIDs[\"participant_id\"]):\n",
    "            dataFile = \"data/trainPreprocessedData.csv\"\n",
    "        else: dataFile = \"data/testPreprocessedData.csv\"\n",
    "            \n",
    "        # read, preprocess, segment\n",
    "        dataArray = preprocess(i)\n",
    "        for data in dataArray:\n",
    "\n",
    "            with open(dataFile, \"a\") as file:\n",
    "                columnName = [\"subjectID\", \"EEGepoch\"]\n",
    "                writer = csv.DictWriter(file, columnName)\n",
    "                writer.writerow({\"subjectID\": subjectID,\n",
    "                                \"EEGepoch\": data})\n",
    "        \n",
    "\n",
    "    "
   ]
  },
  {
   "cell_type": "code",
   "execution_count": 60,
   "metadata": {},
   "outputs": [
    {
     "name": "stdout",
     "output_type": "stream",
     "text": [
      "Num of the segemtns: 164\n",
      "Num of the chanels: 19\n",
      "Length of the signals: 2500\n"
     ]
    }
   ],
   "source": [
    "sample = preprocess(Alzheimer_path[0])\n",
    "\n",
    "print(f\"Num of the segemtns: {sample.shape[0]}\")\n",
    "print(f\"Num of the chanels: {sample.shape[1]}\")\n",
    "print(f\"Length of the signals: {sample.shape[2]}\")"
   ]
  },
  {
   "cell_type": "markdown",
   "metadata": {},
   "source": [
    "### reading the data"
   ]
  },
  {
   "cell_type": "code",
   "execution_count": 63,
   "metadata": {},
   "outputs": [],
   "source": [
    "# %%capture\n",
    "# in order to prevent any verbos to be displayed\n",
    "\n",
    "storeSegments(Alzheimer_path, train) \n",
    "storeSegments(FD_path, train) \n",
    "storeSegments(control_path, train) \n"
   ]
  },
  {
   "cell_type": "code",
   "execution_count": null,
   "metadata": {},
   "outputs": [],
   "source": []
  }
 ],
 "metadata": {
  "interpreter": {
   "hash": "b9cfe67cac069f921023fd5863f238b21560f72b68a1eed887353c5ce9b46c91"
  },
  "kernelspec": {
   "display_name": "Python 3 (ipykernel)",
   "language": "python",
   "name": "python3"
  },
  "language_info": {
   "codemirror_mode": {
    "name": "ipython",
    "version": 3
   },
   "file_extension": ".py",
   "mimetype": "text/x-python",
   "name": "python",
   "nbconvert_exporter": "python",
   "pygments_lexer": "ipython3",
   "version": "3.9.12"
  }
 },
 "nbformat": 4,
 "nbformat_minor": 2
}
